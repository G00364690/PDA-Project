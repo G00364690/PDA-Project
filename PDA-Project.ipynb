{
 "cells": [
  {
   "cell_type": "markdown",
   "metadata": {},
   "source": [
    "# Programming for Data Analysis "
   ]
  },
  {
   "cell_type": "markdown",
   "metadata": {},
   "source": [
    "## Project - Declan Reidy"
   ]
  },
  {
   "cell_type": "markdown",
   "metadata": {},
   "source": [
    "## Problem Statement\n",
    "\n",
    "For this project it is required to create a data set by simulating a real-world phenomenon. This will require the synthesis of data based on research and asssumptions.\n",
    "\n",
    "## Choose a real world phenomenon\n",
    "A particular phenomenon that has begun to interest me more in the past number of years is the non-outcome based performance of professional sports teams. This is to say, the measurement of performance parameters not directly related to an outcome. In the case of soccer, a typical outcome might be \"Trophies won\", or at a more granular level \"Points accumulated\",  or even \"Goals Scored\" and \"Goals Conceded\". \n",
    "\n",
    "In the past 25 the media coverage of soccer has increased beyond all recognition with the UEFA Champions League and English Premier League in particular negotiating lucrative TV & Media distribution contracts. Given these enormous financial investments made in professional sports in the modern era there is certainly a market for generating further insights into the game to better train and prepare players, underpin more insightful media discussion and even inform betting markets. This led Opta, an international sports analytics company, to develop non-outcome based performance factors or advanced metrics such as \"Expected Goals\", \"Expected Assists\", \"Sequences and possessions\" and \"Defensive coverage\" in an attempt to generate insights beyond simple obvious statistics more traditionally consumed by the soccer viewing public.\n",
    "\n",
    "In short, measuring non-outcome based performance aims to build metrics that could ultimately identify the best performer irrespective of whether that performer won a given competition. This becomes especially relevant for a game like soccer where at a professional level goals can be few and far between. The total number of scoring plays in a game is often as low as 0, while rarely being higher than 6. \n",
    "\n",
    "This project will aim to further identify the variables associated with the outcome of goalscoring in soccer and synthesise a set of data that reflects the distributions of these variables. \n",
    "\n",
    "### What is Expected Goals XG?\n",
    "According to Opta, an international sports analytics company, Expected Goals (XG) measures the quality of a shot based on several variables such as assist type, shot angle, and distance from the goal, whether it was a headed shot and whether it was defined as a big chance.\n",
    "\n",
    "Expected goals has gained much media attention in the past number of years as an alternative predictor to the performance of teams in a soccer game, irrespective of the result. As an example in simple terms, Team A might gain a victory over Team B by 1 goal to nil, a common scoreline in soccer. The only metric that counts here is goals. Team A might have been the better team but they also not have been. We need further statistical properties to help us decide. Tradionally these statistical properties might have been limited to \"Time of possession\" of the football, or \"shots on target\" at the opposition goal. \n",
    "\n",
    "\n",
    "### Why is XG useful?\n",
    "The benefit of these statistics is that they can be informative at face value: for instance a team with a 70% share of possession might appear dominant, but this takes no account of how comfortable the opposition might be with this scenario. There may be no danger of conceding a goal during these long periods of possession. Goals are all that count. Similarly, achieving numerous shots on target may seem advantageous, but potentially this is not the case if these attempts on goal are from large distance or poor angles reducing the likelihood of a goal being conceded by the opposition. They may be very comfortable with this scenario too. Both of the above points serve to illustrate that these statistical metrics cannot give a clear insight into the events that unfolded. We must find a way to measure the quality and influence of these statistics.\n",
    "\n",
    "Expected goals aims to qualify attempts on goal (based on several variables) and add them up to then calculate how many goals a team should have scored throughout a game. This is a bid to measure the quality of the performance of a given participant. The result should be to see who was the better team. Beyond the implications of a single game, XG can used to measure trends such as Top Performer for a season in a given category. In this case the logical argument is find a player or team who conistently outperforms their XG."
   ]
  },
  {
   "cell_type": "markdown",
   "metadata": {
    "collapsed": true
   },
   "source": [
    "This "
   ]
  },
  {
   "cell_type": "code",
   "execution_count": null,
   "metadata": {
    "collapsed": true
   },
   "outputs": [],
   "source": []
  },
  {
   "cell_type": "code",
   "execution_count": null,
   "metadata": {
    "collapsed": true
   },
   "outputs": [],
   "source": []
  },
  {
   "cell_type": "code",
   "execution_count": null,
   "metadata": {
    "collapsed": true
   },
   "outputs": [],
   "source": []
  },
  {
   "cell_type": "code",
   "execution_count": null,
   "metadata": {
    "collapsed": true
   },
   "outputs": [],
   "source": []
  },
  {
   "cell_type": "code",
   "execution_count": null,
   "metadata": {
    "collapsed": true
   },
   "outputs": [],
   "source": []
  },
  {
   "cell_type": "code",
   "execution_count": null,
   "metadata": {
    "collapsed": true
   },
   "outputs": [],
   "source": []
  },
  {
   "cell_type": "code",
   "execution_count": null,
   "metadata": {
    "collapsed": true
   },
   "outputs": [],
   "source": []
  },
  {
   "cell_type": "code",
   "execution_count": null,
   "metadata": {
    "collapsed": true
   },
   "outputs": [],
   "source": []
  }
 ],
 "metadata": {
  "kernelspec": {
   "display_name": "Python 3",
   "language": "python",
   "name": "python3"
  }
 },
 "nbformat": 4,
 "nbformat_minor": 2
}
