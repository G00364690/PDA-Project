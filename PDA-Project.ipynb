{
 "cells": [
  {
   "cell_type": "markdown",
   "metadata": {},
   "source": [
    "# Programming for Data Analysis "
   ]
  },
  {
   "cell_type": "markdown",
   "metadata": {},
   "source": [
    "## Project - Declan Reidy"
   ]
  },
  {
   "cell_type": "markdown",
   "metadata": {},
   "source": [
    "## Problem Statement\n",
    "\n",
    "For this project it is required to create a data set by simulating a real-world phenomenon. This will require the synthesis of data based on research and asssumptions.\n",
    "\n",
    "## Choose a real world phenomenon\n",
    "A particular phenomenon that has begun to interest me more in the past number of years is the non-outcome based performance of professional sports teams. This is to say, the measurement of performance parameters not directly related to an outcome. In the case of soccer, a typical outcome might be \"Trophies won\", or at a more granular level \"Points accumulated\",  or even \"Goals Scored\" and \"Goals Conceded\". \n",
    "\n",
    "In the past 25 the media coverage of soccer has increased beyond all recognition with the UEFA Champions League and English Premier League in particular negotiating lucrative TV & Media distribution contracts. Given these enormous financial investments made in professional sports in the modern era there is certainly a market for generating further insights into the game to better train and prepare players, underpin more insightful media discussion and even inform betting markets. This led Opta, an international sports analytics company, to develop non-outcome based performance factors or advanced metrics such as \"Expected Goals\", \"Expected Assists\", \"Sequences and possessions\" and \"Defensive coverage\" in an attempt to generate insights beyond simple obvious statistics more traditionally consumed by the soccer viewing public.\n",
    "\n",
    "In short, measuring non-outcome based performance aims to build metrics that could ultimately identify the best performer irrespective of whether that performer won a given competition. This becomes especially relevant for a game like soccer where at a professional level goals can be few and far between. The total number of scoring plays in a game is often as low as 0, while rarely being higher than 6. \n",
    "\n",
    "This project will aim to further identify the variables associated with the outcome of goalscoring in soccer and synthesise a set of data that reflects the distributions of these variables. \n",
    "\n",
    "### What is Expected Goals XG?\n",
    "According to Opta, an international sports analytics company, Expected Goals (XG) measures the quality of a shot based on several variables such as assist type, shot angle, and distance from the goal, whether it was a headed shot and whether it was defined as a big chance.\n",
    "\n",
    "Expected goals has gained much media attention in the past number of years as an alternative predictor to the performance of teams in a soccer game, irrespective of the result. As an example in simple terms, Team A might gain a victory over Team B by 1 goal to nil, a common scoreline in soccer. The only metric that counts here is goals. Team A might have been the better team but they also not have been. We need further statistical properties to help us decide. Tradionally these statistical properties might have been limited to \"Time of possession\" of the football, or \"shots on target\" at the opposition goal. \n",
    "\n",
    "\n",
    "### Why is XG useful?\n",
    "The benefit of these statistics is that they can be informative at face value: for instance a team with a 70% share of possession might appear dominant, but this takes no account of how comfortable the opposition might be with this scenario. There may be no danger of conceding a goal during these long periods of possession. Goals are all that count. Similarly, achieving numerous shots on target may seem advantageous, but potentially this is not the case if these attempts on goal are from large distance or poor angles reducing the likelihood of a goal being conceded by the opposition. They may be very comfortable with this scenario too. Both of the above points serve to illustrate that these statistical metrics cannot give a clear insight into the events that unfolded. We must find a way to measure the quality and influence of these statistics.\n",
    "\n",
    "Expected goals aims to qualify attempts on goal (based on several variables) and add them up to then calculate how many goals a team should have scored throughout a game. This is a bid to measure the quality of the performance of a given participant. The result should be to see who was the better team. Beyond the implications of a single game, XG can used to measure trends such as Top Performer for a season in a given category. In this case the logical argument is find a player or team who conistently outperforms their XG."
   ]
  },
  {
   "cell_type": "markdown",
   "metadata": {
    "collapsed": true
   },
   "source": [
    "## Investigative steps\n",
    "\n",
    "In order to develop my understanding of the XG phenomenon it's impertative to attempt to understand the variables which govern XG. From the reading it is clear that there are a number of variables that feed into the XG calculation.\n",
    "\n",
    "### Investigating possible variables\n",
    "Acccording to OptaPro, Opta’s xG model is calculated using a logistic regression where the dependent variable is whether or not the shot was a goal and the regression inputs are as follows:\n",
    "- Passage of play (open play, direct free kick, set play, corner kick, assisted, throw-in)\n",
    "- Assist type (long ball, cross, through ball, danger-zone pass, pull-back)\n",
    "- Post-Take–on\n",
    "- Rebound\n",
    "- Header\n",
    "- Distance to goal\n",
    "- Visible angle of the goal\n",
    "- 1 v 1 (the shooter versus the goalkeeper with 3rd party influencers)\n",
    "- Big chance\n",
    "- Competition adjustments for a subset of competitions \n",
    "\n",
    "This is quite an extensive range of variables and it will be necessary to determine which among them are the most important as it would be impractical to deal with them all for the purposes of this project.\n",
    "\n",
    "### Investigative development\n",
    "\n",
    "We now need to identify which variables are the most important in determining XG. There appears to be some consensus that among the variables listed the most important are \"Distance to goal\" and \"Visible angle of the goal\", with the next most important being \"Header\" and \"Big Chance\"\n",
    "\n",
    "#### Distance to goal\n",
    "\n",
    "It is unsurprising to us to learn that shots on goal have a much greater likelihood of being successful the closer the are to the goal. We don't necessarily need data to support this but it stands to reason that this is true. That it would be so important for the XG calculation is therefore logical.\n",
    "\n",
    "#### Visible angle to goal\n",
    "\n",
    "Similar to the distance to goal, the angle has a strong impact on the likelihood of a goal being scored. It is safe to assume the narrow or more acute the angle the less likely it is that the outcome of the shot will be a goal.\n",
    "\n",
    "#### Header\n",
    "\n",
    "Depending on whether the shot is taken with the head or with the foot there will be significant difference in the XG. We would naturally expect the XG to be higher for a shot taken with a foot versus the head given the power transfer potential of the foot compared with the head.\n",
    "\n",
    "#### Big chance\n",
    "\n",
    "The final important variable is the big chance which is classified by Opta as a situation where the attacking player would reasonably be expected to score. Penalties for instance would be called a Big chance, while other scenarios where the shooter is very close to goal or the ball has an unobstructed path to goal would similarly qualify as big chances.\n",
    "\n",
    "### Simplifying the calculation method\n",
    "\n",
    "A more simple method of calculating XG could involve:\n",
    "\n",
    "1. Shots - Some research would indicate there are between 20 and 40 shots in a game. (between 10 and 20 per team)\n",
    "\n",
    "2. Shots on target - Some research would indicate there are between 10 and 15 shots on target in a game. (between 3 and 8 per team)\n",
    "\n",
    "3. Goals per game - Looking to existing data we'll make the assumption that there is an average of 2.5 goals per game in a top level game.\n",
    "\n",
    "3. Penalties - Some research would indicate that typically 80% of penalties are scored.\n",
    "\n",
    "4. Big Chance (adjusted to exclude penalties)- Some research would indicate that typically 40% of big chances not including penalties are converted to goals.\n",
    "\n",
    "5. Remaining shots inside the box - Some research would indicate that typically 7% of shots inside the box not classified as penalties or big chances are scored. \n",
    "\n",
    "6. Remaining shots outside the box - Some research would indicate that typically 4% of shots outside the box are scored. \n",
    "\n",
    "\n",
    "### Investigative distribution\n",
    "\n",
    "Given the erratic nature of football results and relatively large standard deviation in number of goals scored in a game we can rule out the normal distribution as good model for our task."
   ]
  },
  {
   "cell_type": "code",
   "execution_count": 36,
   "metadata": {},
   "outputs": [
    {
     "data": {
      "text/plain": [
       "<matplotlib.collections.PathCollection at 0x1955b995e80>"
      ]
     },
     "execution_count": 36,
     "metadata": {},
     "output_type": "execute_result"
    },
    {
     "data": {
      "image/png": "[encoded data removed]",
      "text/plain": [
       "<matplotlib.figure.Figure at 0x1955a959160>"
      ]
     },
     "metadata": {},
     "output_type": "display_data"
    }
   ],
   "source": [
    "import numpy.random as np\n",
    "import matplotlib.pyplot as plt\n",
    "\n",
    "z = np.randint(12,25)\n",
    "x = np.normal(z,3,size=20)\n",
    "\n",
    "\n",
    "y = (x + 2*np.random((1,20)))/2.5\n",
    "\n",
    "plt.xlabel(\"Shots\")\n",
    "plt.ylabel(\"Shots on Target\")\n",
    "plt.title(\"Shots v Shots on Target\")\n",
    "\n",
    "plt.scatter(x,y)"
   ]
  },
  {
   "cell_type": "markdown",
   "metadata": {},
   "source": [
    "If we assume that each team registers between 5 and 10 shots on target in a game then we can just add "
   ]
  },
  {
   "cell_type": "code",
   "execution_count": 24,
   "metadata": {},
   "outputs": [
    {
     "data": {
      "text/plain": [
       "(9, array([  5.81273927,   6.63225912,   7.48049855,   7.88072886,\n",
       "          8.50356563,   9.65589325,   7.82382144,   6.66170391,\n",
       "          7.82251087,   7.42504868,   9.55085916,  11.59354372,\n",
       "          7.95888605,   6.48275705,   5.03511734,   6.4026982 ,\n",
       "         10.08326537,  10.15288909,   6.62110024,   7.39873384]))"
      ]
     },
     "execution_count": 24,
     "metadata": {},
     "output_type": "execute_result"
    }
   ],
   "source": [
    "import numpy.random as np\n",
    "import matplotlib.pyplot as plt\n",
    "\n",
    "z = np.randint(5,10)\n",
    "x = np.normal(z,2,size=20)\n",
    "z, x"
   ]
  },
  {
   "cell_type": "code",
   "execution_count": 33,
   "metadata": {},
   "outputs": [
    {
     "data": {
      "text/plain": [
       "<matplotlib.collections.PathCollection at 0x1955a8a7048>"
      ]
     },
     "execution_count": 33,
     "metadata": {},
     "output_type": "execute_result"
    },
    {
     "data": {
      "image/png": "[encoded data removed]",
      "text/plain": [
       "<matplotlib.figure.Figure at 0x1955a3f5b00>"
      ]
     },
     "metadata": {},
     "output_type": "display_data"
    }
   ],
   "source": [
    "\n",
    "y = (x + 2*np.random((1,20)))/4\n",
    "\n",
    "plt.xlabel(\"Shots on Target\")\n",
    "plt.ylabel(\"Goals\")\n",
    "plt.title(\"Shots on Target v Goals\")\n",
    "\n",
    "plt.scatter(x,y)"
   ]
  },
  {
   "cell_type": "code",
   "execution_count": null,
   "metadata": {
    "collapsed": true
   },
   "outputs": [],
   "source": []
  },
  {
   "cell_type": "markdown",
   "metadata": {},
   "source": [
    "#### Goals per game\n",
    "\n",
    "##### Poisson Distribution"
   ]
  },
  {
   "cell_type": "code",
   "execution_count": 60,
   "metadata": {},
   "outputs": [
    {
     "data": {
      "text/plain": [
       "array([3, 3, 3, 4, 2, 2, 0, 5, 3, 6, 1, 0, 2, 2, 4, 0, 1, 4, 1, 3])"
      ]
     },
     "execution_count": 60,
     "metadata": {},
     "output_type": "execute_result"
    }
   ],
   "source": [
    "import numpy.random as np\n",
    "import matplotlib.pyplot as plt\n",
    "import seaborn as sns\n",
    "import pandas as pd\n",
    "\n",
    "%matplotlib inline\n",
    "\n",
    "gpg = np.poisson(2.5,20)\n",
    "gpg\n",
    "\n"
   ]
  },
  {
   "cell_type": "code",
   "execution_count": 61,
   "metadata": {},
   "outputs": [
    {
     "data": {
      "text/plain": [
       "(array([ 0.25      ,  0.25      ,  0.        ,  0.33333333,  0.        ,\n",
       "         0.41666667,  0.25      ,  0.        ,  0.08333333,  0.08333333]),\n",
       " array([ 0. ,  0.6,  1.2,  1.8,  2.4,  3. ,  3.6,  4.2,  4.8,  5.4,  6. ]),\n",
       " <a list of 10 Patch objects>)"
      ]
     },
     "execution_count": 61,
     "metadata": {},
     "output_type": "execute_result"
    },
    {
     "data": {
      "image/png": "[encoded data removed]",
      "text/plain": [
       "<matplotlib.figure.Figure at 0x1955a7673c8>"
      ]
     },
     "metadata": {},
     "output_type": "display_data"
    }
   ],
   "source": [
    "plt.xlabel(\"Goals scored per game\")\n",
    "plt.ylabel(\"Probability\")\n",
    "plt.title(\"Poisson distribution of goals per game\")\n",
    "plt.hist(gpg,density=True)"
   ]
  },
  {
   "cell_type": "code",
   "execution_count": 16,
   "metadata": {},
   "outputs": [
    {
     "data": {
      "text/plain": [
       "<matplotlib.axes._subplots.AxesSubplot at 0x1ceb211b550>"
      ]
     },
     "execution_count": 16,
     "metadata": {},
     "output_type": "execute_result"
    },
    {
     "data": {
      "image/png": "[encoded data removed]",
      "text/plain": [
       "<matplotlib.figure.Figure at 0x1ceb0da44e0>"
      ]
     },
     "metadata": {},
     "output_type": "display_data"
    }
   ],
   "source": [
    "import numpy.random as np\n",
    "import matplotlib.pyplot as plt\n",
    "import seaborn as sns\n",
    "from scipy.stats import norm\n",
    "\n",
    "%matplotlib inline\n",
    "\n",
    "gpg = np.poisson(2.5,10000)\n",
    "sns.distplot(gpg,bins=10,hist=True,kde=False,fit=norm,axlabel=\"Goals scored\")\n",
    "\n"
   ]
  },
  {
   "cell_type": "markdown",
   "metadata": {
    "collapsed": true
   },
   "source": [
    "#### Distance to Goal\n",
    "\n",
    "##### Exponential Distribution\n",
    "\n",
    "Goals scored will reduce in probability as distance increases. Several sources would indicate that this would follow an exponential distribution. This is modelled simply below using the numpy.random package."
   ]
  },
  {
   "cell_type": "code",
   "execution_count": 9,
   "metadata": {},
   "outputs": [
    {
     "data": {
      "text/plain": [
       "(array([  7.56763324e-02,   7.89118239e-02,   5.33589153e-02,\n",
       "          3.76512979e-02,   2.34386270e-02,   1.64764471e-02,\n",
       "          1.04966607e-02,   7.62422764e-03,   5.38180775e-03,\n",
       "          3.65194097e-03,   2.64819111e-03,   1.78325773e-03,\n",
       "          9.39680718e-04,   7.90186058e-04,   5.12553119e-04,\n",
       "          2.34920179e-04,   2.02885610e-04,   1.60172850e-04,\n",
       "          1.28138280e-04,   3.20345699e-05,   8.54255198e-05,\n",
       "          6.40691398e-05,   2.13563799e-05,   2.13563799e-05,\n",
       "          1.06781900e-05,   1.06781900e-05,   0.00000000e+00,\n",
       "          1.06781900e-05,   1.06781900e-05,   1.06781900e-05]),\n",
       " array([  2.87305884e-02,   3.15035826e+00,   6.27198594e+00,\n",
       "          9.39361361e+00,   1.25152413e+01,   1.56368690e+01,\n",
       "          1.87584966e+01,   2.18801243e+01,   2.50017520e+01,\n",
       "          2.81233797e+01,   3.12450073e+01,   3.43666350e+01,\n",
       "          3.74882627e+01,   4.06098904e+01,   4.37315180e+01,\n",
       "          4.68531457e+01,   4.99747734e+01,   5.30964010e+01,\n",
       "          5.62180287e+01,   5.93396564e+01,   6.24612841e+01,\n",
       "          6.55829117e+01,   6.87045394e+01,   7.18261671e+01,\n",
       "          7.49477948e+01,   7.80694224e+01,   8.11910501e+01,\n",
       "          8.43126778e+01,   8.74343055e+01,   9.05559331e+01,\n",
       "          9.36775608e+01]),\n",
       " <a list of 30 Patch objects>)"
      ]
     },
     "execution_count": 9,
     "metadata": {},
     "output_type": "execute_result"
    },
    {
     "data": {
      "image/png": "[encoded data removed]",
      "text/plain": [
       "<matplotlib.figure.Figure at 0x1ceb34490b8>"
      ]
     },
     "metadata": {},
     "output_type": "display_data"
    }
   ],
   "source": [
    "import numpy.random as np\n",
    "from scipy.stats import expon as exp\n",
    "import matplotlib.pyplot as plt\n",
    "\n",
    "%matplotlib inline\n",
    "\n",
    "plt.xlabel(\"Distance to goal\")\n",
    "plt.ylabel(\"Probability\")\n",
    "plt.title(\"Exponential distribution of proximity to goal\")\n",
    "x = np.exponential(8,30000)\n",
    "z = exp.rvs(x)\n",
    "plt.hist(z, bins=30, density=True)\n"
   ]
  }
 ],
 "metadata": {
  "kernelspec": {
   "display_name": "Python 3",
   "language": "python",
   "name": "python3"
  },
  "language_info": {
   "codemirror_mode": {
    "name": "ipython",
    "version": 3
   },
   "file_extension": ".py",
   "mimetype": "text/x-python",
   "name": "python",
   "nbconvert_exporter": "python",
   "pygments_lexer": "ipython3",
   "version": "3.6.3"
  }
 },
 "nbformat": 4,
 "nbformat_minor": 2
}
