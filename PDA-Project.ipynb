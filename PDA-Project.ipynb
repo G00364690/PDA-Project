{
 "cells": [
  {
   "cell_type": "markdown",
   "metadata": {},
   "source": [
    "# Programming for Data Analysis "
   ]
  },
  {
   "cell_type": "markdown",
   "metadata": {},
   "source": [
    "## Project - Declan Reidy"
   ]
  },
  {
   "cell_type": "markdown",
   "metadata": {},
   "source": [
    "## Problem Statement\n",
    "\n",
    "For this project it is required to create a data set by simulating a real-world phenomenon. This will require the synthesis of data based on research and asssumptions.\n",
    "\n",
    "## Choose a real world phenomenon\n",
    "A particular phenomenon that has begun to interest me more in the past number of years is the non-outcome based performance of professional sports teams. This is to say, the measurement of performance parameters not directly related to an outcome. In the case of soccer, a typical outcome might be \"Trophies won\", or at a more granular level \"Points accumulated\",  or even \"Goals Scored\" and \"Goals Conceded\". \n",
    "\n",
    "In the past 25 the media coverage of soccer has increased beyond all recognition with the UEFA Champions League and English Premier League in particular negotiating lucrative TV & Media distribution contracts. Given these enormous financial investments made in professional sports in the modern era there is certainly a market for generating further insights into the game to better train and prepare players, underpin more insightful media discussion and even inform betting markets. This led Opta, an international sports analytics company, to develop non-outcome based performance factors or advanced metrics such as \"Expected Goals\", \"Expected Assists\", \"Sequences and possessions\" and \"Defensive coverage\" in an attempt to generate insights beyond simple obvious statistics more traditionally consumed by the soccer viewing public.\n",
    "\n",
    "In short, measuring non-outcome based performance aims to build metrics that could ultimately identify the best performer irrespective of whether that performer won a given competition. This becomes especially relevant for a game like soccer where at a professional level goals can be few and far between. The total number of scoring plays in a game is often as low as 0, while rarely being higher than 6. This information could better analyse who should have scored more goals in any given game and thus provide a better indicator as to what team performances may have deserved rather than what they may have achieved in previous games.\n",
    "\n",
    "This project will aim to further identify the variables associated with the outcome of goalscoring in soccer and synthesise a set of data that reflects the distributions of these variables. \n",
    "\n",
    "### What is Expected Goals XG?\n",
    "According to Opta, an international sports analytics company, Expected Goals (XG) measures the quality of a shot based on several variables such as assist type, shot angle, and distance from the goal, whether it was a headed shot and whether it was defined as a big chance.\n",
    "\n",
    "Expected goals has gained much media attention in the past number of years as an alternative predictor to the performance of teams in a soccer game, irrespective of the result. As an example in simple terms, Team A might gain a victory over Team B by 1 goal to nil, a common scoreline in soccer. The only metric that counts here is goals. Team A might have been the better team but they also not have been. We need further statistical properties to help us decide. Tradionally these statistical properties might have been limited to \"Time of possession\" of the football, or \"shots on target\" at the opposition goal. \n",
    "\n",
    "\n",
    "### Why is XG useful?\n",
    "The benefit of these statistics is that they can be informative at face value: for instance a team with a 70% share of possession might appear dominant, but this takes no account of how comfortable the opposition might be with this scenario. There may be no danger of conceding a goal during these long periods of possession. Goals are all that count. Similarly, achieving numerous shots on target may seem advantageous, but potentially this is not the case if these attempts on goal are from large distance or poor angles reducing the likelihood of a goal being conceded by the opposition. They may be very comfortable with this scenario too. Both of the above points serve to illustrate that these statistical metrics cannot give a clear insight into the events that unfolded. We must find a way to measure the quality and influence of these statistics.\n",
    "\n",
    "Expected goals aims to qualify attempts on goal (based on several variables) and add them up to then calculate how many goals a team should have scored throughout a game. This is a bid to measure the quality of the performance of a given participant. The result should be to see who was the better team. Beyond the implications of a single game, XG can used to measure trends such as Top Performer for a season in a given category. In this case the logical argument is find a player or team who conistently outperforms their XG."
   ]
  },
  {
   "cell_type": "markdown",
   "metadata": {
    "collapsed": true
   },
   "source": [
    "## Investigative steps\n",
    "\n",
    "In order to develop our understanding of the XG phenomenon it's impertative to attempt to understand the variables which govern an XG model. From the reading it is clear that there are a number of variables that feed into the official XG calculation developed by OptaPro.\n",
    "\n",
    "### Investigating possible variables\n",
    "Acccording to OptaPro, Opta’s xG model is calculated using a logistic regression where the dependent variable is whether or not the shot was a goal and the regression inputs are as follows:\n",
    "- Passage of play (open play, direct free kick, set play, corner kick, assisted, throw-in)\n",
    "- Assist type (long ball, cross, through ball, danger-zone pass, pull-back)\n",
    "- Post-Take–on\n",
    "- Rebound\n",
    "- Header\n",
    "- Distance to goal\n",
    "- Visible angle of the goal\n",
    "- 1 v 1 (the shooter versus the goalkeeper with 3rd party influencers)\n",
    "- Big chance\n",
    "- Competition adjustments for a subset of competitions \n",
    "\n",
    "This is quite an extensive range of variables and it will be necessary to determine which among them are the most important as it would be impractical to deal with them all for the purposes of this project.\n",
    "\n",
    "### Investigative development\n",
    "\n",
    "We now need to identify which variables are the most important in determining XG. There appears to be some consensus that among the variables listed the most important are \"Distance to goal\" and \"Visible angle of the goal\", with the next most important being \"Header\" and \"Big Chance\"\n",
    "\n",
    "#### Distance to goal\n",
    "\n",
    "It is unsurprising to us to learn that shots on goal have a much greater likelihood of being successful the closer the are to the goal. We don't necessarily need data to support this but it stands to reason that this is true. That it would be so important for the XG calculation is therefore logical.\n",
    "\n",
    "#### Visible angle to goal\n",
    "\n",
    "Similar to the distance to goal, the angle has a strong impact on the likelihood of a goal being scored. It is safe to assume the narrow or more acute the angle the less likely it is that the outcome of the shot will be a goal.\n",
    "\n",
    "#### Header\n",
    "\n",
    "Depending on whether the shot is taken with the head or with the foot there will be significant difference in the XG. We would naturally expect the XG to be higher for a shot taken with a foot versus the head given the power transfer potential of the foot compared with the head.\n",
    "\n",
    "#### Big chance\n",
    "\n",
    "The final important variable is the big chance which is classified by Opta as a situation where the attacking player would reasonably be expected to score. Penalties for instance would be called a Big chance, while other scenarios where the shooter is very close to goal or the ball has an unobstructed path to goal would similarly qualify as big chances.\n",
    "\n",
    "### Simplifying the calculation method\n",
    "\n",
    "A more simple method of calculating XG could involve:\n",
    "\n",
    "1. Distance to goal - Some research would indicate a potential shooter is more likely to shoot the closer they are to goal.\n",
    "\n",
    "2. Shots - Some research would indicate there are between 20 and 40 shots in a game. (between 10 and 20 per team)\n",
    "\n",
    "3. Shots on target - Some research would indicate there are between 10 and 15 shots on target in a game. (between 3 and 8 per team)\n",
    "\n",
    "4. Goals per game - Looking to existing data we'll make the assumption that there is an average of 2.5 goals per game in a top level game.\n",
    "\n",
    "5. Penalties - Some research would indicate that typically 80% of penalties are scored.\n",
    "\n",
    "6. Big Chance (adjusted to exclude penalties)- Some research would indicate that typically 40% of big chances not including penalties are converted to goals.\n",
    "\n",
    "7. Remaining shots inside the box - Some research would indicate that typically 7% of shots inside the box not classified as penalties or big chances are scored. \n",
    "\n",
    "8. Remaining shots outside the box - Some research would indicate that typically 4% of shots outside the box are scored. \n",
    "\n",
    "\n",
    "### Investigative distribution\n",
    "\n",
    "Given the erratic nature of football results and relatively large standard deviation in number of goals scored in a game we can rule out the normal distribution as good model for our task. Lets first look at Shots and Shots on target to find any relationship. \n",
    "\n",
    "Research would indicate:\n",
    "\n",
    "1. That there is a linear relationship between Shots and Shots on target \n",
    "2. There is a large difference in the quality of different teams in League of 20 teams\n",
    "3. The standard of the 20 teams is normally distributed\n",
    "4. Approx 33% of the shots taken result in shots on target"
   ]
  },
  {
   "cell_type": "markdown",
   "metadata": {
    "collapsed": true
   },
   "source": [
    "#### Distance to Goal\n",
    "\n",
    "##### Exponential Distribution\n",
    "\n",
    "Some research would indicate that goals scored will reduce in probability as distance increases. We can assume that the same would be true of distancet to goal and the propensity to shoot. Several sources would indicate that this would follow an exponential distribution. This is modelled simply below using the numpy.random package."
   ]
  },
  {
   "cell_type": "code",
   "execution_count": 14,
   "metadata": {},
   "outputs": [
    {
     "data": {
      "text/plain": [
       "(array([  7.54227362e-02,   7.95479542e-02,   5.74207431e-02,\n",
       "          4.01292042e-02,   2.68024582e-02,   1.94229015e-02,\n",
       "          1.32006977e-02,   9.61404978e-03,   7.24204942e-03,\n",
       "          4.49190407e-03,   3.20850291e-03,   2.14282158e-03,\n",
       "          1.54695676e-03,   1.18027071e-03,   6.76077398e-04,\n",
       "          4.12521802e-04,   3.89603924e-04,   3.78144985e-04,\n",
       "          2.29178779e-04,   6.87536337e-05,   6.87536337e-05,\n",
       "          5.72946948e-05,   0.00000000e+00,   5.72946948e-05,\n",
       "          1.14589390e-05,   0.00000000e+00,   2.29178779e-05,\n",
       "          1.14589390e-05,   0.00000000e+00,   1.14589390e-05]),\n",
       " array([  1.56860216e-02,   2.92462318e+00,   5.83356034e+00,\n",
       "          8.74249750e+00,   1.16514347e+01,   1.45603718e+01,\n",
       "          1.74693090e+01,   2.03782461e+01,   2.32871833e+01,\n",
       "          2.61961205e+01,   2.91050576e+01,   3.20139948e+01,\n",
       "          3.49229319e+01,   3.78318691e+01,   4.07408063e+01,\n",
       "          4.36497434e+01,   4.65586806e+01,   4.94676177e+01,\n",
       "          5.23765549e+01,   5.52854921e+01,   5.81944292e+01,\n",
       "          6.11033664e+01,   6.40123035e+01,   6.69212407e+01,\n",
       "          6.98301779e+01,   7.27391150e+01,   7.56480522e+01,\n",
       "          7.85569893e+01,   8.14659265e+01,   8.43748636e+01,\n",
       "          8.72838008e+01]),\n",
       " <a list of 30 Patch objects>)"
      ]
     },
     "execution_count": 14,
     "metadata": {},
     "output_type": "execute_result"
    },
    {
     "data": {
      "image/png": "[encoded data removed]",
      "text/plain": [
       "<matplotlib.figure.Figure at 0x20a426a8ef0>"
      ]
     },
     "metadata": {},
     "output_type": "display_data"
    }
   ],
   "source": [
    "\"Plotting the exponential relationship between distance to goal and shots\"\n",
    "\n",
    "import numpy.random as np\n",
    "from scipy.stats import expon as exp\n",
    "import matplotlib.pyplot as plt\n",
    "\n",
    "%matplotlib inline\n",
    "\n",
    "plt.xlabel(\"Distance to goal\")\n",
    "plt.ylabel(\"Probability of shooting\")\n",
    "plt.title(\"Exponential distribution of proximity to goal\")\n",
    "x = np.exponential(8,30000)\n",
    "z = exp.rvs(x)\n",
    "plt.hist(z, bins=30, density=True)\n"
   ]
  },
  {
   "cell_type": "code",
   "execution_count": 15,
   "metadata": {},
   "outputs": [
    {
     "data": {
      "text/plain": [
       "array([ 21.80284146,  15.77151166,  17.84415616,  13.75109598,\n",
       "        20.96748218,  19.86498568,  18.18657602,  17.1723623 ,\n",
       "        18.9392759 ,  21.02012282,  21.9538126 ,  15.8465662 ,\n",
       "        19.39812644,  18.03491894,  14.56329183,  25.15901996,\n",
       "        11.42675982,  18.40604313,  19.8560497 ,  18.16241584,\n",
       "        15.73088722,  18.38451792,  10.35254886,  17.49713876,\n",
       "        15.87036471,  18.93158975,  17.46126734,  13.6761436 ,\n",
       "        15.18307799,  20.55641727,  16.48403338,  16.95423786,\n",
       "        19.43846942,  17.88513002,  22.47756706,  22.88955797,\n",
       "        16.53622823,  18.77152185,  20.39118703,  19.09260628,\n",
       "        10.27834779,  16.30082863,  21.19401763,  17.20657378,\n",
       "        16.95741212,  18.89851953,  21.36787774,  23.64421215,\n",
       "        17.6738116 ,  14.89788908,  16.74446183,  15.20234609,\n",
       "        24.80874149,  13.6786398 ,  15.52000101,  15.92021899,\n",
       "        13.78464202,  15.16366107,  17.96521533,  14.97737568,\n",
       "        22.13596688,  15.29442661,  15.16158887,  19.45635263,\n",
       "        19.9611669 ,  20.68871867,  19.56104802,  15.44387337,\n",
       "        14.32476123,  17.47539453,  19.24083565,  19.8834043 ,\n",
       "        16.77262737,  15.26440077,  20.74672117,  17.42444644,\n",
       "        15.69293462,  18.912698  ,  21.43250706,  21.8713171 ,\n",
       "        13.67797899,  21.42850114,  18.66740101,  19.157175  ,\n",
       "        16.97950273,  17.61646754,  16.78786855,  21.09486275,\n",
       "        17.85945082,  12.5679916 ,  16.17813537,  17.6119996 ,\n",
       "        16.59940365,  13.26773635,  21.351921  ,  22.86762475,\n",
       "        19.89383828,  17.96220257,  20.37654121,  13.96939911])"
      ]
     },
     "execution_count": 15,
     "metadata": {},
     "output_type": "execute_result"
    }
   ],
   "source": [
    "\"Plotting the linear relationship between shots and shots on target\"\n",
    "\"Using a standard deviation of 3 we can generate a random array of number of shots based on a random number between 12 and 25\"\n",
    "\n",
    "import pandas as pd\n",
    "import numpy.random as np\n",
    "import matplotlib.pyplot as plt\n",
    "\n",
    "%matplotlib inline\n",
    "\n",
    "z = np.randint(18,25)\n",
    "x = np.normal(z,3,size=100)\n",
    "x"
   ]
  },
  {
   "cell_type": "code",
   "execution_count": 16,
   "metadata": {},
   "outputs": [
    {
     "data": {
      "text/plain": [
       "<matplotlib.collections.PathCollection at 0x20a42bde5f8>"
      ]
     },
     "execution_count": 16,
     "metadata": {},
     "output_type": "execute_result"
    },
    {
     "data": {
      "image/png": "[encoded data removed]",
      "text/plain": [
       "<matplotlib.figure.Figure at 0x20a42ef76d8>"
      ]
     },
     "metadata": {},
     "output_type": "display_data"
    }
   ],
   "source": [
    "\"Using the Random shots value we can then use the equation of a line to plot the shots on target (approx 33%)\"\n",
    "\"We can also add some standard errors to the calculation by adding a small random sample to the x coordinate\"\n",
    "\n",
    "y = (x + 2*np.random((1,100)))/3\n",
    "\n",
    "plt.xlabel(\"Shots\")\n",
    "plt.ylabel(\"Shots on Target\")\n",
    "plt.title(\"Shots v Shots on Target\")\n",
    "\n",
    "plt.scatter(x,y)"
   ]
  },
  {
   "cell_type": "markdown",
   "metadata": {},
   "source": [
    "We have correctly synthesised Shots v Shots on Target. We can see a clear distribution of teams clustering around the mean. We can see some poorer performers and some stand out performers. Now we can introduce goals.\n",
    "\n",
    "We can start by returning our shots quantity synthesised from the previous example. "
   ]
  },
  {
   "cell_type": "code",
   "execution_count": 9,
   "metadata": {},
   "outputs": [
    {
     "data": {
      "text/plain": [
       "array([[  6.44118291,   8.63733805,   8.14504648,  10.02956975,\n",
       "          8.3653359 ,   6.84278744,   6.39670577,   9.07583825,\n",
       "          8.17118148,   5.93542857,   8.8714998 ,   9.04430956,\n",
       "          7.21476727,   7.91273853,   6.90675217,   6.69190653,\n",
       "          8.72257168,   7.93223245,   8.92782208,   6.74152236,\n",
       "          7.05909407,   6.87442311,   7.91799377,   7.5428674 ,\n",
       "          6.8453527 ,   6.44940497,   7.17742811,   9.42542899,\n",
       "          7.25400289,   8.53995631,   9.13350573,   6.79447437,\n",
       "          9.30678655,   7.9713893 ,   8.15174745,   8.53190895,\n",
       "          8.62595366,   6.61153205,   7.46408115,   6.77698746,\n",
       "          7.78547276,   7.511449  ,   6.79617978,   7.95740436,\n",
       "          6.42950359,   6.64641489,   8.1854602 ,   7.48314651,\n",
       "          6.40159119,   8.22625044,   6.90533255,   7.02095577,\n",
       "          8.01419927,   8.95153874,   6.92059157,   7.54510155,\n",
       "          7.43379543,   9.27380996,   7.32055192,   5.82483864,\n",
       "          7.46935194,   7.90904769,   9.44619856,   7.90534792,\n",
       "          7.6080038 ,   7.15777416,   7.05205785,   7.91166062,\n",
       "          7.91427614,   8.38586454,   7.58291481,   6.15678302,\n",
       "          8.38987497,   7.57466646,   7.59313549,   6.57125785,\n",
       "          5.55791481,   9.79206305,   9.40141532,   8.11231703,\n",
       "          7.28452485,   7.85561414,   7.87184595,   8.85366989,\n",
       "          8.65008998,   6.73343462,   7.07915586,   7.78860495,\n",
       "          7.98374648,   8.58069933,   7.49608859,   7.32193388,\n",
       "          7.47700815,   8.4261143 ,   6.52185934,   7.20530448,\n",
       "          8.22287323,   8.65369559,   7.34741677,   7.11550853]])"
      ]
     },
     "execution_count": 9,
     "metadata": {},
     "output_type": "execute_result"
    }
   ],
   "source": [
    "import numpy.random as np\n",
    "import matplotlib.pyplot as plt\n",
    "\n",
    "y"
   ]
  },
  {
   "cell_type": "markdown",
   "metadata": {},
   "source": [
    "We'll plot this on our x axis and create our goals scored using the equation for a line and the estimate that one in three chances is converted to a goal."
   ]
  },
  {
   "cell_type": "code",
   "execution_count": 10,
   "metadata": {},
   "outputs": [
    {
     "data": {
      "text/plain": [
       "<matplotlib.collections.PathCollection at 0x20a42793b38>"
      ]
     },
     "execution_count": 10,
     "metadata": {},
     "output_type": "execute_result"
    },
    {
     "data": {
      "image/png": "[encoded data removed]",
      "text/plain": [
       "<matplotlib.figure.Figure at 0x20a426d56d8>"
      ]
     },
     "metadata": {},
     "output_type": "display_data"
    }
   ],
   "source": [
    "x = y\n",
    "y1 = (x + 2*np.random((1,100)))/3\n",
    "\n",
    "plt.xlabel(\"Shots on Target\")\n",
    "plt.ylabel(\"Goals\")\n",
    "plt.title(\"Shots on Target v Goals\")\n",
    "\n",
    "plt.scatter(x,y1)\n"
   ]
  },
  {
   "cell_type": "markdown",
   "metadata": {},
   "source": [
    "We have correctly synthesised Shots on Target v Goals. We can see a clear distribution of teams clustering around the mean. We can see some poorer performers and some stand out performers as we would expect to see. Now we can evaluate how well we "
   ]
  },
  {
   "cell_type": "markdown",
   "metadata": {},
   "source": [
    "#### Goals per game\n",
    "\n",
    "##### Poisson Distribution\n",
    "Now that we have sythesised goals scored lets check our results against a standard poisson distribution for goals per game. First we can use the mean of the previous distribution of goals scored. "
   ]
  },
  {
   "cell_type": "code",
   "execution_count": 11,
   "metadata": {},
   "outputs": [
    {
     "data": {
      "text/plain": [
       "2.5668518634144841"
      ]
     },
     "execution_count": 11,
     "metadata": {},
     "output_type": "execute_result"
    }
   ],
   "source": [
    "import numpy as np\n",
    "import matplotlib.pyplot as plt\n",
    "import statistics as stats\n",
    "\n",
    "gpg = np.mean(y/3)\n",
    "gpg"
   ]
  },
  {
   "cell_type": "markdown",
   "metadata": {},
   "source": [
    "Using the mean result we can synthesise the probabilities of goals scored using the poisson distribution."
   ]
  },
  {
   "cell_type": "code",
   "execution_count": 12,
   "metadata": {},
   "outputs": [
    {
     "data": {
      "text/plain": [
       "array([3, 2, 4, ..., 1, 1, 3])"
      ]
     },
     "execution_count": 12,
     "metadata": {},
     "output_type": "execute_result"
    }
   ],
   "source": [
    "import numpy.random as np\n",
    "import matplotlib.pyplot as plt\n",
    "import seaborn as sns\n",
    "import pandas as pd\n",
    "\n",
    "%matplotlib inline\n",
    "\n",
    "gpg1 = np.poisson(gpg,20000)\n",
    "gpg1\n",
    "\n"
   ]
  },
  {
   "cell_type": "code",
   "execution_count": null,
   "metadata": {},
   "outputs": [],
   "source": [
    "plt.xlabel(\"Goals scored per game\")\n",
    "plt.ylabel(\"Probability\")\n",
    "plt.title(\"Poisson distribution of goals per game\")\n",
    "plt.hist(gpg1,density=True)"
   ]
  },
  {
   "cell_type": "code",
   "execution_count": 13,
   "metadata": {},
   "outputs": [
    {
     "data": {
      "text/plain": [
       "<matplotlib.axes._subplots.AxesSubplot at 0x20a42e33940>"
      ]
     },
     "execution_count": 13,
     "metadata": {},
     "output_type": "execute_result"
    },
    {
     "data": {
      "image/png": "[encoded data removed]",
      "text/plain": [
       "<matplotlib.figure.Figure at 0x20a407685f8>"
      ]
     },
     "metadata": {},
     "output_type": "display_data"
    }
   ],
   "source": [
    "import numpy.random as np\n",
    "import matplotlib.pyplot as plt\n",
    "import seaborn as sns\n",
    "from scipy.stats import norm\n",
    "\n",
    "%matplotlib inline\n",
    "\n",
    "gpg2 = np.poisson(gpg,10000)\n",
    "sns.distplot(gpg2,bins=10,hist=True,kde=False,fit=norm,axlabel=\"Goals scored\")\n",
    "\n"
   ]
  },
  {
   "cell_type": "code",
   "execution_count": null,
   "metadata": {
    "collapsed": true
   },
   "outputs": [],
   "source": []
  }
 ],
 "metadata": {
  "kernelspec": {
   "display_name": "Python 3",
   "language": "python",
   "name": "python3"
  },
  "language_info": {
   "codemirror_mode": {
    "name": "ipython",
    "version": 3
   },
   "file_extension": ".py",
   "mimetype": "text/x-python",
   "name": "python",
   "nbconvert_exporter": "python",
   "pygments_lexer": "ipython3",
   "version": "3.6.3"
  }
 },
 "nbformat": 4,
 "nbformat_minor": 2
}
