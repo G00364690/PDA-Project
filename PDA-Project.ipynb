{
 "cells": [
  {
   "cell_type": "markdown",
   "metadata": {},
   "source": [
    "# Programming for Data Analysis "
   ]
  },
  {
   "cell_type": "markdown",
   "metadata": {},
   "source": [
    "## Project - Declan Reidy"
   ]
  },
  {
   "cell_type": "markdown",
   "metadata": {},
   "source": [
    "## Problem Statement\n",
    "\n",
    "For this project it is required to create a data set by simulating a real-world phenomenon. This will require the synthesis of data based on research and asssumptions.\n",
    "\n",
    "## Choose a real world phenomenon\n",
    "A particular phenomenon that has begun to interest me more in the past number of years is the non-outcome based performance of professional sports teams. This is to say, the measurement of performance parameters not directly related to an outcome. In the case of soccer, a typical outcome might be \"Trophies won\", or at a more granular level \"Points accumulated\",  or even \"Goals Scored\" and \"Goals Conceded\". \n",
    "\n",
    "In the past 25 the media coverage of soccer has increased beyond all recognition with the UEFA Champions League and English Premier League in particular negotiating lucrative TV & Media distribution contracts. Given these enormous financial investments made in professional sports in the modern era there is certainly a market for generating further insights into the game to better train and prepare players, underpin more insightful media discussion and even inform betting markets. This led Opta, an international sports analytics company, to develop non-outcome based performance factors or advanced metrics such as \"Expected Goals\", \"Expected Assists\", \"Sequences and possessions\" and \"Defensive coverage\" in an attempt to generate insights beyond simple obvious statistics more traditionally consumed by the soccer viewing public.\n",
    "\n",
    "In short, measuring non-outcome based performance aims to build metrics that could ultimately identify the best performer irrespective of whether that performer won a given competition. This becomes especially relevant for a game like soccer where at a professional level goals can be few and far between. The total number of scoring plays in a game is often as low as 0, while rarely being higher than 6. \n",
    "\n",
    "This project will aim to further identify the variables associated with the outcome of goalscoring in soccer and synthesise a set of data that reflects the distributions of these variables. \n",
    "\n",
    "### What is Expected Goals XG?\n",
    "According to Opta, an international sports analytics company, Expected Goals (XG) measures the quality of a shot based on several variables such as assist type, shot angle, and distance from the goal, whether it was a headed shot and whether it was defined as a big chance.\n",
    "\n",
    "Expected goals has gained much media attention in the past number of years as an alternative predictor to the performance of teams in a soccer game, irrespective of the result. As an example in simple terms, Team A might gain a victory over Team B by 1 goal to nil, a common scoreline in soccer. The only metric that counts here is goals. Team A might have been the better team but they also not have been. We need further statistical properties to help us decide. Tradionally these statistical properties might have been limited to \"Time of possession\" of the football, or \"shots on target\" at the opposition goal. \n",
    "\n",
    "\n",
    "### Why is XG useful?\n",
    "The benefit of these statistics is that they can be informative at face value: for instance a team with a 70% share of possession might appear dominant, but this takes no account of how comfortable the opposition might be with this scenario. There may be no danger of conceding a goal during these long periods of possession. Goals are all that count. Similarly, achieving numerous shots on target may seem advantageous, but potentially this is not the case if these attempts on goal are from large distance or poor angles reducing the likelihood of a goal being conceded by the opposition. They may be very comfortable with this scenario too. Both of the above points serve to illustrate that these statistical metrics cannot give a clear insight into the events that unfolded. We must find a way to measure the quality and influence of these statistics.\n",
    "\n",
    "Expected goals aims to qualify attempts on goal (based on several variables) and add them up to then calculate how many goals a team should have scored throughout a game. This is a bid to measure the quality of the performance of a given participant. The result should be to see who was the better team. Beyond the implications of a single game, XG can used to measure trends such as Top Performer for a season in a given category. In this case the logical argument is find a player or team who conistently outperforms their XG."
   ]
  },
  {
   "cell_type": "markdown",
   "metadata": {
    "collapsed": true
   },
   "source": [
    "### Investigative steps\n",
    "\n",
    "In order to develop my understanding of the XG phenomenon it's impertative to attempt to understand the variables which govern XG. From the reading it is clear that there are a number of variables that feed into the XG calculation.\n",
    "\n",
    "#### Investigating possible variables\n",
    "Acccording to OptaPro, Opta’s xG model is calculated using a logistic regression where the dependent variable is whether or not the shot was a goal and the regression inputs are as follows:\n",
    "- Passage of play (open play, direct free kick, set play, corner kick, assisted, throw-in)\n",
    "- Assist type (long ball, cross, through ball, danger-zone pass, pull-back)\n",
    "- Post-Take–on\n",
    "- Rebound\n",
    "- Header\n",
    "- Distance to goal\n",
    "- Visible angle of the goal\n",
    "- 1 v 1 (the shooter versus the goalkeeper with 3rd party influencers)\n",
    "- Big chance\n",
    "- Competition adjustments for a subset of competitions \n",
    "\n",
    "This is quite an extensive range of variables and it will be necessary to determine which among them are the most important as it would be impractical to deal with them all for the purposes of this project.\n",
    "\n",
    "### Investigative development\n",
    "\n",
    "We now need to identify which variables are the most important in determining XG. There appears to be some consensus that among the variables listed the most important are \"Distance to goal\" and \"Visible angle of the goal\", with the next most important being \"Header\" and \"Big Chance\"\n",
    "\n",
    "#### Distance to goal\n",
    "\n",
    "It is unsurprising to us to learn that shots on goal have a much greater likelihood of being successful the closer the are to the goal. We don't necessarily need data to support this but it stands to reason that this is true. That it would be so important for the XG calculation is therefore logical.\n",
    "\n",
    "#### Visible angle to goal\n",
    "\n",
    "Similar to the distance to goal, the angle has a strong impact on the likelihood of a goal being scored. It is safe to assume the narrow or more acute the angle the less likely it is that the outcome of the shot will be a goal.\n",
    "\n",
    "#### Header\n",
    "\n",
    "Depending on whether the shot is taken with the head or with the foot there will be significant difference in the XG. We would naturally expect the XG to be higher for a shot taken with a foot versus the head given the power transfer potential of the foot compared with the head.\n",
    "\n",
    "#### Big chance\n",
    "\n",
    "The final important variable is the big chance which is classified by Opta as a situation where the attacking player would reasonably be expected to score. Penalties for instance would be called a Big chance, while other scenarios where the shooter is very close to goal or the ball has an unobstructed path to goal would similarly qualify as big chances.\n",
    "\n",
    "\n",
    "### Investigative distribution\n",
    "\n",
    "Given the erratic nature of football results and relatively large standard deviation in number of goals scored in a game we can rule out the normal distribution as good model for our task."
   ]
  },
  {
   "cell_type": "markdown",
   "metadata": {
    "collapsed": true
   },
   "source": [
    "#### Distance to Goal\n",
    "\n",
    "##### Exponential Distribution\n",
    "\n",
    "Goals scored will reduce in probability as distance increases. Several sources would indicate that this would follow an exponential distribution. This is modelled simply below using the numpy.random package."
   ]
  },
  {
   "cell_type": "code",
   "execution_count": 91,
   "metadata": {},
   "outputs": [
    {
     "data": {
      "text/plain": [
       "(array([  7.12237211e-02,   8.44213589e-02,   6.39912620e-02,\n",
       "          4.32283440e-02,   3.48438118e-02,   2.37455073e-02,\n",
       "          1.75499140e-02,   1.28392150e-02,   8.25652411e-03,\n",
       "          6.46441035e-03,   4.60829252e-03,   3.78904052e-03,\n",
       "          2.56016251e-03,   1.72810970e-03,   1.25447963e-03,\n",
       "          1.12647151e-03,   6.40040628e-04,   4.22426815e-04,\n",
       "          3.07219502e-04,   3.20020314e-04,   2.30414626e-04,\n",
       "          1.02406501e-04,   5.12032503e-05,   1.53609751e-04,\n",
       "          2.56016251e-05,   3.84024377e-05,   1.28008126e-05,\n",
       "          1.28008126e-05,   3.84024377e-05,   3.84024377e-05]),\n",
       " array([  2.09506178e-02,   2.62495198e+00,   5.22895334e+00,\n",
       "          7.83295470e+00,   1.04369561e+01,   1.30409574e+01,\n",
       "          1.56449588e+01,   1.82489601e+01,   2.08529615e+01,\n",
       "          2.34569629e+01,   2.60609642e+01,   2.86649656e+01,\n",
       "          3.12689669e+01,   3.38729683e+01,   3.64769697e+01,\n",
       "          3.90809710e+01,   4.16849724e+01,   4.42889737e+01,\n",
       "          4.68929751e+01,   4.94969765e+01,   5.21009778e+01,\n",
       "          5.47049792e+01,   5.73089805e+01,   5.99129819e+01,\n",
       "          6.25169833e+01,   6.51209846e+01,   6.77249860e+01,\n",
       "          7.03289873e+01,   7.29329887e+01,   7.55369901e+01,\n",
       "          7.81409914e+01]),\n",
       " <a list of 30 Patch objects>)"
      ]
     },
     "execution_count": 91,
     "metadata": {},
     "output_type": "execute_result"
    },
    {
     "data": {
      "image/png": "[encoded data removed]",
      "text/plain": [
       "<matplotlib.figure.Figure at 0x1a28633c6d8>"
      ]
     },
     "metadata": {},
     "output_type": "display_data"
    }
   ],
   "source": [
    "import numpy.random as np\n",
    "from scipy.stats import expon as exp\n",
    "import matplotlib.pyplot as plt\n",
    "\n",
    "%matplotlib inline\n",
    "\n",
    "plt.xlabel(\"Goals scored\")\n",
    "plt.ylabel(\"Distance to goal\")\n",
    "plt.title(\"Exponential distribution of proximity to goal\")\n",
    "x = np.exponential(8,30000)\n",
    "z = exp.rvs(x)\n",
    "plt.hist(z, bins=30, density=True)\n"
   ]
  },
  {
   "cell_type": "code",
   "execution_count": 92,
   "metadata": {},
   "outputs": [
    {
     "data": {
      "text/plain": [
       "(array([  1.06326835e-01,   7.63733316e-02,   5.33753233e-02,\n",
       "          3.87288953e-02,   2.77970507e-02,   2.02058382e-02,\n",
       "          1.44345223e-02,   1.07074738e-02,   7.61614258e-03,\n",
       "          5.49708491e-03,   3.57746796e-03,   2.69244975e-03,\n",
       "          1.70771118e-03,   1.38362001e-03,   1.04706379e-03,\n",
       "          7.47902709e-04,   4.73671715e-04,   3.61486309e-04,\n",
       "          2.99161083e-04,   1.86975677e-04,   9.97203611e-05,\n",
       "          7.47902709e-05,   8.72553160e-05,   6.23252257e-05,\n",
       "          3.73951354e-05,   1.24650451e-05,   1.24650451e-05,\n",
       "          0.00000000e+00,   1.24650451e-05,   1.24650451e-05]),\n",
       " array([  3.76333370e-04,   2.67452095e+00,   5.34866556e+00,\n",
       "          8.02281018e+00,   1.06969548e+01,   1.33710994e+01,\n",
       "          1.60452440e+01,   1.87193886e+01,   2.13935332e+01,\n",
       "          2.40676779e+01,   2.67418225e+01,   2.94159671e+01,\n",
       "          3.20901117e+01,   3.47642563e+01,   3.74384009e+01,\n",
       "          4.01125455e+01,   4.27866902e+01,   4.54608348e+01,\n",
       "          4.81349794e+01,   5.08091240e+01,   5.34832686e+01,\n",
       "          5.61574132e+01,   5.88315578e+01,   6.15057025e+01,\n",
       "          6.41798471e+01,   6.68539917e+01,   6.95281363e+01,\n",
       "          7.22022809e+01,   7.48764255e+01,   7.75505701e+01,\n",
       "          8.02247148e+01]),\n",
       " <a list of 30 Patch objects>)"
      ]
     },
     "execution_count": 92,
     "metadata": {},
     "output_type": "execute_result"
    },
    {
     "data": {
      "image/png": "[encoded data removed]",
      "text/plain": [
       "<matplotlib.figure.Figure at 0x1a286688080>"
      ]
     },
     "metadata": {},
     "output_type": "display_data"
    }
   ],
   "source": [
    "import numpy.random as np\n",
    "from scipy.stats import expon as exp\n",
    "import matplotlib.pyplot as plt\n",
    "\n",
    "%matplotlib inline\n",
    "\n",
    "plt.xlabel(\"Goals scored\")\n",
    "plt.ylabel(\"Distance to goal\")\n",
    "plt.title(\"Exponential distribution of proximity to goal\")\n",
    "x = np.exponential(8,30000)\n",
    "plt.hist(x, bins=30, density=True)"
   ]
  },
  {
   "cell_type": "markdown",
   "metadata": {},
   "source": [
    "#### Goals per game\n",
    "\n",
    "##### Poisson Distribution"
   ]
  },
  {
   "cell_type": "code",
   "execution_count": 17,
   "metadata": {},
   "outputs": [
    {
     "data": {
      "text/plain": [
       "(array([  1.51555556e-01,   2.96111111e-01,   3.11222222e-01,\n",
       "          1.97666667e-01,   9.64444444e-02,   3.92222222e-02,\n",
       "          1.48888889e-02,   3.11111111e-03,   7.77777778e-04,\n",
       "          1.11111111e-04]),\n",
       " array([ 0. ,  0.9,  1.8,  2.7,  3.6,  4.5,  5.4,  6.3,  7.2,  8.1,  9. ]),\n",
       " <a list of 10 Patch objects>)"
      ]
     },
     "execution_count": 17,
     "metadata": {},
     "output_type": "execute_result"
    },
    {
     "data": {
      "image/png": "[encoded data removed]",
      "text/plain": [
       "<matplotlib.figure.Figure at 0x1a2fd33a5f8>"
      ]
     },
     "metadata": {},
     "output_type": "display_data"
    }
   ],
   "source": [
    "import numpy.random as np\n",
    "import matplotlib.pyplot as plt\n",
    "\n",
    "%matplotlib inline\n",
    "\n",
    "x = np.poisson(2,10000)\n",
    "plt.hist(x,density=True)"
   ]
  },
  {
   "cell_type": "code",
   "execution_count": 86,
   "metadata": {},
   "outputs": [
    {
     "data": {
      "text/plain": [
       "(array([ 0.1386,  0.2672,  0.2729,  0.18  ,  0.0886,  0.0364,  0.012 ,\n",
       "         0.0035,  0.0005,  0.0003]),\n",
       " array([  0.,   1.,   2.,   3.,   4.,   5.,   6.,   7.,   8.,   9.,  10.]),\n",
       " <a list of 10 Patch objects>)"
      ]
     },
     "execution_count": 86,
     "metadata": {},
     "output_type": "execute_result"
    },
    {
     "data": {
      "image/png": "[encoded data removed]",
      "text/plain": [
       "<matplotlib.figure.Figure at 0x1a286469cc0>"
      ]
     },
     "metadata": {},
     "output_type": "display_data"
    }
   ],
   "source": [
    "import numpy.random as np\n",
    "import matplotlib.pyplot as plt\n",
    "import seaborn as sns\n",
    "import pandas as pd\n",
    "\n",
    "%matplotlib inline\n",
    "\n",
    "plt.xlabel(\"Goals scored per game\")\n",
    "plt.ylabel(\"Probability\")\n",
    "plt.title(\"Poisson distribution of goals per game\")\n",
    "gpg = np.poisson(2,10000)\n",
    "plt.hist(gpg,density=True)\n"
   ]
  },
  {
   "cell_type": "code",
   "execution_count": 85,
   "metadata": {},
   "outputs": [
    {
     "data": {
      "text/plain": [
       "<matplotlib.axes._subplots.AxesSubplot at 0x1a28646d3c8>"
      ]
     },
     "execution_count": 85,
     "metadata": {},
     "output_type": "execute_result"
    },
    {
     "data": {
      "image/png": "[encoded data removed]",
      "text/plain": [
       "<matplotlib.figure.Figure at 0x1a286376b00>"
      ]
     },
     "metadata": {},
     "output_type": "display_data"
    }
   ],
   "source": [
    "import numpy.random as np\n",
    "import matplotlib.pyplot as plt\n",
    "import seaborn as sns\n",
    "from scipy.stats import norm\n",
    "\n",
    "%matplotlib inline\n",
    "\n",
    "gpg = np.poisson(2,10000)\n",
    "sns.distplot(gpg,bins=10,hist=True,kde=False,fit=norm,axlabel=\"Goals scored\")\n",
    "\n"
   ]
  },
  {
   "cell_type": "code",
   "execution_count": null,
   "metadata": {
    "collapsed": true
   },
   "outputs": [],
   "source": []
  },
  {
   "cell_type": "code",
   "execution_count": null,
   "metadata": {
    "collapsed": true
   },
   "outputs": [],
   "source": []
  },
  {
   "cell_type": "code",
   "execution_count": null,
   "metadata": {
    "collapsed": true
   },
   "outputs": [],
   "source": []
  }
 ],
 "metadata": {
  "kernelspec": {
   "display_name": "Python 3",
   "language": "python",
   "name": "python3"
  },
  "language_info": {
   "codemirror_mode": {
    "name": "ipython",
    "version": 3
   },
   "file_extension": ".py",
   "mimetype": "text/x-python",
   "name": "python",
   "nbconvert_exporter": "python",
   "pygments_lexer": "ipython3",
   "version": "3.6.3"
  }
 },
 "nbformat": 4,
 "nbformat_minor": 2
}
